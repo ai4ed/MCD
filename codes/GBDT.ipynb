{
 "cells": [
  {
   "cell_type": "code",
   "execution_count": 1,
   "metadata": {},
   "outputs": [],
   "source": [
    "import warnings\n",
    "warnings.filterwarnings('ignore')"
   ]
  },
  {
   "cell_type": "code",
   "execution_count": 2,
   "metadata": {},
   "outputs": [
    {
     "name": "stderr",
     "output_type": "stream",
     "text": [
      "Using TensorFlow backend.\n"
     ]
    }
   ],
   "source": [
    "import pandas as pd\n",
    "import sys\n",
    "import os\n",
    "from utils.metrics_utils import *\n",
    "from utils.competition_utils import load_data, load_save_vectors\n",
    "import xgboost\n",
    "from tqdm import tqdm_notebook\n",
    "import pickle\n",
    "from sklearn.model_selection import GridSearchCV\n",
    "from itertools import product\n",
    "import pandas as pd\n",
    "pd.set_option('display.max_columns', None)\n",
    "pd.set_option('display.max_rows', 40)"
   ]
  },
  {
   "cell_type": "markdown",
   "metadata": {},
   "source": [
    "## train model"
   ]
  },
  {
   "cell_type": "code",
   "execution_count": 3,
   "metadata": {},
   "outputs": [],
   "source": [
    "def search_best_params(data, param_grid):\n",
    "    param_grid = sorted(param_grid.items())\n",
    "    param_name_list = [x[0] for x in param_grid]\n",
    "    grid_list = [x[1] for x in param_grid]\n",
    "    all_model_report = []\n",
    "    for model_config in tqdm_notebook(product(*grid_list)):\n",
    "        x_train, y_train, x_dev, y_dev, x_test, y_test = data\n",
    "        model_config = dict(zip(param_name_list, model_config))\n",
    "        model = xgboost.XGBClassifier(\n",
    "            tree_method='gpu_hist', subsample=0.9, gpu_id=3, n_jobs=10, **model_config)\n",
    "        model.fit(x_train, y_train)\n",
    "        y_dev_pred = model.predict(x_dev)\n",
    "        y_test_pred = model.predict(x_test)\n",
    "        model_report = {}\n",
    "        model_report.update(model_config)\n",
    "        model_report.update(get_model_result_adv(\n",
    "            y_dev, y_dev_pred, data_set='dev'))\n",
    "        model_report.update(get_model_result_adv(\n",
    "            y_test, y_test_pred, data_set='test'))\n",
    "        model_report['y_true'] = y_test\n",
    "        model_report['y_pred'] = y_test_pred\n",
    "        all_model_report.append(model_report)\n",
    "\n",
    "    return pd.DataFrame(all_model_report)"
   ]
  },
  {
   "cell_type": "code",
   "execution_count": 4,
   "metadata": {},
   "outputs": [],
   "source": [
    "keep_cols = ['emb_name', 'dev_acc',\n",
    "             'dev_rmse', 'dev_abs_1_score', 'dev_macro_f1-score',\n",
    "             'dev_micro_f1-score', 'test_acc', 'test_rmse',\n",
    "             'test_abs_1_score','test_micro_f1-score', 'test_macro_f1-score', 'max_depth', 'n_estimators']"
   ]
  },
  {
   "cell_type": "code",
   "execution_count": 5,
   "metadata": {},
   "outputs": [
    {
     "name": "stdout",
     "output_type": "stream",
     "text": [
      "Start load data form data/features/wide_features/raw+filter\n",
      "Finish load data\n"
     ]
    }
   ],
   "source": [
    "data_dir = 'data/features/wide_features/'\n",
    "data_basic = load_save_vectors(os.path.join(data_dir,'raw'))"
   ]
  },
  {
   "cell_type": "code",
   "execution_count": 6,
   "metadata": {},
   "outputs": [
    {
     "data": {
      "text/plain": [
       "(3726, 25)"
      ]
     },
     "execution_count": 6,
     "metadata": {},
     "output_type": "execute_result"
    }
   ],
   "source": [
    "data_basic[0].shape"
   ]
  },
  {
   "cell_type": "code",
   "execution_count": 7,
   "metadata": {},
   "outputs": [],
   "source": [
    "param_grid = {\n",
    "    'max_depth': range(1, 10, 1),\n",
    "    'n_estimators': range(10, 100, 10),\n",
    "}"
   ]
  },
  {
   "cell_type": "markdown",
   "metadata": {},
   "source": [
    "### wide"
   ]
  },
  {
   "cell_type": "code",
   "execution_count": null,
   "metadata": {
    "scrolled": true
   },
   "outputs": [],
   "source": [
    "df_report = search_best_params(data_basic, param_grid)"
   ]
  },
  {
   "cell_type": "code",
   "execution_count": 9,
   "metadata": {},
   "outputs": [
    {
     "data": {
      "text/html": [
       "<div>\n",
       "<style scoped>\n",
       "    .dataframe tbody tr th:only-of-type {\n",
       "        vertical-align: middle;\n",
       "    }\n",
       "\n",
       "    .dataframe tbody tr th {\n",
       "        vertical-align: top;\n",
       "    }\n",
       "\n",
       "    .dataframe thead th {\n",
       "        text-align: right;\n",
       "    }\n",
       "</style>\n",
       "<table border=\"1\" class=\"dataframe\">\n",
       "  <thead>\n",
       "    <tr style=\"text-align: right;\">\n",
       "      <th></th>\n",
       "      <th>dev_acc</th>\n",
       "      <th>dev_rmse</th>\n",
       "      <th>dev_abs_1_score</th>\n",
       "      <th>dev_macro_f1-score</th>\n",
       "      <th>dev_micro_f1-score</th>\n",
       "      <th>test_acc</th>\n",
       "      <th>test_rmse</th>\n",
       "      <th>test_abs_1_score</th>\n",
       "      <th>test_micro_f1-score</th>\n",
       "      <th>test_macro_f1-score</th>\n",
       "      <th>max_depth</th>\n",
       "      <th>n_estimators</th>\n",
       "    </tr>\n",
       "  </thead>\n",
       "  <tbody>\n",
       "    <tr>\n",
       "      <th>36</th>\n",
       "      <td>0.7147</td>\n",
       "      <td>0.7412</td>\n",
       "      <td>0.912</td>\n",
       "      <td>0.616006</td>\n",
       "      <td>0.696213</td>\n",
       "      <td>0.7053</td>\n",
       "      <td>0.723</td>\n",
       "      <td>0.924</td>\n",
       "      <td>0.675702</td>\n",
       "      <td>0.60617</td>\n",
       "      <td>5</td>\n",
       "      <td>10</td>\n",
       "    </tr>\n",
       "  </tbody>\n",
       "</table>\n",
       "</div>"
      ],
      "text/plain": [
       "    dev_acc  dev_rmse  dev_abs_1_score  dev_macro_f1-score  \\\n",
       "36   0.7147    0.7412            0.912            0.616006   \n",
       "\n",
       "    dev_micro_f1-score  test_acc  test_rmse  test_abs_1_score  \\\n",
       "36            0.696213    0.7053      0.723             0.924   \n",
       "\n",
       "    test_micro_f1-score  test_macro_f1-score  max_depth  n_estimators  \n",
       "36             0.675702              0.60617          5            10  "
      ]
     },
     "execution_count": 9,
     "metadata": {},
     "output_type": "execute_result"
    }
   ],
   "source": [
    "df_report.sort_values('test_acc',ascending=False)[keep_cols[1:]][:1]"
   ]
  },
  {
   "cell_type": "markdown",
   "metadata": {},
   "source": [
    "### wide + text emb"
   ]
  },
  {
   "cell_type": "code",
   "execution_count": 10,
   "metadata": {},
   "outputs": [
    {
     "data": {
      "text/plain": [
       "[{'max_depth': range(1, 10), 'n_estimators': range(10, 100, 10)},\n",
       " {'max_depth': range(1, 10), 'n_estimators': range(10, 100, 10)},\n",
       " {'max_depth': range(1, 10), 'n_estimators': range(10, 100, 10)}]"
      ]
     },
     "execution_count": 10,
     "metadata": {},
     "output_type": "execute_result"
    }
   ],
   "source": [
    "emb_list = ['word2vec_max', 'edu_roberta_max', 'edu_roberta_cls']\n",
    "param_grid_list = [param_grid]*len(emb_list)\n",
    "param_grid_list"
   ]
  },
  {
   "cell_type": "code",
   "execution_count": 11,
   "metadata": {},
   "outputs": [
    {
     "data": {
      "text/plain": [
       "{'edu_roberta_cls': 'Wide + EduRoBERTa(CLS)',\n",
       " 'edu_roberta_max': 'Wide + EduRoBERTa(max)',\n",
       " 'word2vec_max': 'Wide + Tencent'}"
      ]
     },
     "execution_count": 11,
     "metadata": {},
     "output_type": "execute_result"
    }
   ],
   "source": [
    "model_dict = {\"edu_roberta_cls\": \"Wide + EduRoBERTa(CLS)\", \n",
    "              \"edu_roberta_max\": \"Wide + EduRoBERTa(max)\",\n",
    "              \"word2vec_max\":\"Wide + Tencent\"}\n",
    "for emb_name in emb_list:\n",
    "    if emb_name not in model_dict:\n",
    "        model_dict[emb_name] = emb_name\n",
    "model_dict"
   ]
  },
  {
   "cell_type": "code",
   "execution_count": null,
   "metadata": {
    "scrolled": true
   },
   "outputs": [],
   "source": [
    "df_report_list = []\n",
    "for emb_name,param_grid in zip(emb_list,param_grid_list):\n",
    "    data_new = load_save_vectors(os.path.join(data_dir,emb_name))\n",
    "    data_new = list(data_new)\n",
    "    for i in range(0, 6, 2):\n",
    "        data_new[i] = np.hstack([data_basic[i], data_new[i]])  # concat feature\n",
    "    df_report = search_best_params(\n",
    "        data_new, param_grid)\n",
    "    df_report = df_report.sort_values('test_acc',ascending=False)\n",
    "    df_report['emb_name'] = emb_name\n",
    "    df_report_list.append(df_report)\n",
    "    model_name = model_dict[emb_name]"
   ]
  },
  {
   "cell_type": "code",
   "execution_count": 13,
   "metadata": {},
   "outputs": [
    {
     "data": {
      "text/html": [
       "<div>\n",
       "<style scoped>\n",
       "    .dataframe tbody tr th:only-of-type {\n",
       "        vertical-align: middle;\n",
       "    }\n",
       "\n",
       "    .dataframe tbody tr th {\n",
       "        vertical-align: top;\n",
       "    }\n",
       "\n",
       "    .dataframe thead th {\n",
       "        text-align: right;\n",
       "    }\n",
       "</style>\n",
       "<table border=\"1\" class=\"dataframe\">\n",
       "  <thead>\n",
       "    <tr style=\"text-align: right;\">\n",
       "      <th></th>\n",
       "      <th>emb_name</th>\n",
       "      <th>dev_acc</th>\n",
       "      <th>dev_rmse</th>\n",
       "      <th>dev_abs_1_score</th>\n",
       "      <th>dev_macro_f1-score</th>\n",
       "      <th>dev_micro_f1-score</th>\n",
       "      <th>test_acc</th>\n",
       "      <th>test_rmse</th>\n",
       "      <th>test_abs_1_score</th>\n",
       "      <th>test_micro_f1-score</th>\n",
       "      <th>test_macro_f1-score</th>\n",
       "      <th>max_depth</th>\n",
       "      <th>n_estimators</th>\n",
       "    </tr>\n",
       "  </thead>\n",
       "  <tbody>\n",
       "    <tr>\n",
       "      <th>4</th>\n",
       "      <td>word2vec_max</td>\n",
       "      <td>0.7347</td>\n",
       "      <td>0.7193</td>\n",
       "      <td>0.9160</td>\n",
       "      <td>0.642749</td>\n",
       "      <td>0.716693</td>\n",
       "      <td>0.7053</td>\n",
       "      <td>0.7033</td>\n",
       "      <td>0.9333</td>\n",
       "      <td>0.671696</td>\n",
       "      <td>0.596735</td>\n",
       "      <td>1</td>\n",
       "      <td>50</td>\n",
       "    </tr>\n",
       "    <tr>\n",
       "      <th>80</th>\n",
       "      <td>edu_roberta_max</td>\n",
       "      <td>0.7147</td>\n",
       "      <td>0.7220</td>\n",
       "      <td>0.9213</td>\n",
       "      <td>0.609157</td>\n",
       "      <td>0.694880</td>\n",
       "      <td>0.7147</td>\n",
       "      <td>0.7052</td>\n",
       "      <td>0.9293</td>\n",
       "      <td>0.684525</td>\n",
       "      <td>0.617096</td>\n",
       "      <td>9</td>\n",
       "      <td>90</td>\n",
       "    </tr>\n",
       "    <tr>\n",
       "      <th>37</th>\n",
       "      <td>edu_roberta_cls</td>\n",
       "      <td>0.7347</td>\n",
       "      <td>0.6792</td>\n",
       "      <td>0.9347</td>\n",
       "      <td>0.644230</td>\n",
       "      <td>0.720980</td>\n",
       "      <td>0.7160</td>\n",
       "      <td>0.7014</td>\n",
       "      <td>0.9307</td>\n",
       "      <td>0.693871</td>\n",
       "      <td>0.631453</td>\n",
       "      <td>5</td>\n",
       "      <td>20</td>\n",
       "    </tr>\n",
       "  </tbody>\n",
       "</table>\n",
       "</div>"
      ],
      "text/plain": [
       "           emb_name  dev_acc  dev_rmse  dev_abs_1_score  dev_macro_f1-score  \\\n",
       "4      word2vec_max   0.7347    0.7193           0.9160            0.642749   \n",
       "80  edu_roberta_max   0.7147    0.7220           0.9213            0.609157   \n",
       "37  edu_roberta_cls   0.7347    0.6792           0.9347            0.644230   \n",
       "\n",
       "    dev_micro_f1-score  test_acc  test_rmse  test_abs_1_score  \\\n",
       "4             0.716693    0.7053     0.7033            0.9333   \n",
       "80            0.694880    0.7147     0.7052            0.9293   \n",
       "37            0.720980    0.7160     0.7014            0.9307   \n",
       "\n",
       "    test_micro_f1-score  test_macro_f1-score  max_depth  n_estimators  \n",
       "4              0.671696             0.596735          1            50  \n",
       "80             0.684525             0.617096          9            90  \n",
       "37             0.693871             0.631453          5            20  "
      ]
     },
     "execution_count": 13,
     "metadata": {},
     "output_type": "execute_result"
    }
   ],
   "source": [
    "df = pd.concat([df_report_list[i].sort_values('test_acc', ascending=False)[\n",
    "               :1] for i in range(len(df_report_list))])[keep_cols]\n",
    "df"
   ]
  },
  {
   "cell_type": "code",
   "execution_count": null,
   "metadata": {},
   "outputs": [],
   "source": []
  }
 ],
 "metadata": {
  "kernelspec": {
   "display_name": "4s_dev",
   "language": "python",
   "name": "4s_dev"
  },
  "language_info": {
   "codemirror_mode": {
    "name": "ipython",
    "version": 3
   },
   "file_extension": ".py",
   "mimetype": "text/x-python",
   "name": "python",
   "nbconvert_exporter": "python",
   "pygments_lexer": "ipython3",
   "version": "3.7.5"
  },
  "toc": {
   "base_numbering": 1,
   "nav_menu": {},
   "number_sections": true,
   "sideBar": true,
   "skip_h1_title": false,
   "title_cell": "Table of Contents",
   "title_sidebar": "Contents",
   "toc_cell": false,
   "toc_position": {
    "height": "calc(100% - 180px)",
    "left": "10px",
    "top": "150px",
    "width": "165px"
   },
   "toc_section_display": true,
   "toc_window_display": true
  }
 },
 "nbformat": 4,
 "nbformat_minor": 4
}
